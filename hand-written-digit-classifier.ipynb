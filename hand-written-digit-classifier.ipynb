{
 "cells": [
  {
   "cell_type": "markdown",
   "execution_count": null,
   "metadata": {},
   "source": [
    "## Comprehensive beginners guide to CNN:\n",
    "\n",
    "CNN(Convolution Neural Networks) are very popular and well used specially when it comes to pattern or shape recognitions in images. \n",
    "\n",
    "Since, this problem asks for a hand-written digit recognition or in other words pattern recognition I have used CNN. There are several advantages of using CNN which are described later and are easy to use. I have used a Keras model. \n",
    "\n",
    "I hope this will give a good idea of how Convolution Neural Nets work."
   ]
  },
  {
   "cell_type": "markdown",
   "execution_count": null,
   "metadata": {},
   "source": [
    "### Importing libraires and packages:"
   ]
  },
  {
   "cell_type": "code",
   "execution_count": 1,
   "metadata": {
    "_cell_guid": "b1076dfc-b9ad-4769-8c92-a6c4dae69d19",
    "_uuid": "8f2839f25d086af736a60e9eeb907d3b93b6e0e5"
   },
   "outputs": [
    {
     "name": "stderr",
     "output_type": "stream",
     "text": [
      "Using TensorFlow backend.\n"
     ]
    }
   ],
   "source": [
    "import numpy as np\n",
    "import pandas as pd\n",
    "import seaborn as sns\n",
    "import matplotlib.pyplot as plt\n",
    "from sklearn.metrics import confusion_matrix\n",
    "from sklearn.model_selection import train_test_split\n",
    "\n",
    "from tensorflow.keras.models import Sequential, Model, load_model\n",
    "from tensorflow.keras.layers import Conv2D, MaxPool2D, Flatten, Dense\n",
    "from tensorflow.keras import optimizers\n",
    "from keras.utils.np_utils import to_categorical\n",
    "\n",
    "import os"
   ]
  },
  {
   "cell_type": "markdown",
   "execution_count": null,
   "metadata": {},
   "source": [
    "### Reading the data from Input folder:"
   ]
  },
  {
   "cell_type": "code",
   "execution_count": 2,
   "metadata": {
    "_cell_guid": "79c7e3d0-c299-4dcb-8224-4455121ee9b0",
    "_uuid": "d629ff2d2480ee46fbb7e2d37f6b5fab8052498a"
   },
   "outputs": [],
   "source": [
    "train = pd.read_csv(\"/kaggle/input/digit-recognizer/train.csv\")\n",
    "test = pd.read_csv(\"/kaggle/input/digit-recognizer/test.csv\")"
   ]
  },
  {
   "cell_type": "markdown",
   "execution_count": null,
   "metadata": {},
   "source": [
    "### Analyzing the data:"
   ]
  },
  {
   "cell_type": "code",
   "execution_count": 3,
   "metadata": {},
   "outputs": [
    {
     "name": "stdout",
     "output_type": "stream",
     "text": [
      "(42000, 785)\n"
     ]
    },
    {
     "data": {
      "text/html": [
       "<div>\n",
       "<style scoped>\n",
       "    .dataframe tbody tr th:only-of-type {\n",
       "        vertical-align: middle;\n",
       "    }\n",
       "\n",
       "    .dataframe tbody tr th {\n",
       "        vertical-align: top;\n",
       "    }\n",
       "\n",
       "    .dataframe thead th {\n",
       "        text-align: right;\n",
       "    }\n",
       "</style>\n",
       "<table border=\"1\" class=\"dataframe\">\n",
       "  <thead>\n",
       "    <tr style=\"text-align: right;\">\n",
       "      <th></th>\n",
       "      <th>label</th>\n",
       "      <th>pixel0</th>\n",
       "      <th>pixel1</th>\n",
       "      <th>pixel2</th>\n",
       "      <th>pixel3</th>\n",
       "      <th>pixel4</th>\n",
       "      <th>pixel5</th>\n",
       "      <th>pixel6</th>\n",
       "      <th>pixel7</th>\n",
       "      <th>pixel8</th>\n",
       "      <th>...</th>\n",
       "      <th>pixel774</th>\n",
       "      <th>pixel775</th>\n",
       "      <th>pixel776</th>\n",
       "      <th>pixel777</th>\n",
       "      <th>pixel778</th>\n",
       "      <th>pixel779</th>\n",
       "      <th>pixel780</th>\n",
       "      <th>pixel781</th>\n",
       "      <th>pixel782</th>\n",
       "      <th>pixel783</th>\n",
       "    </tr>\n",
       "  </thead>\n",
       "  <tbody>\n",
       "    <tr>\n",
       "      <th>0</th>\n",
       "      <td>1</td>\n",
       "      <td>0</td>\n",
       "      <td>0</td>\n",
       "      <td>0</td>\n",
       "      <td>0</td>\n",
       "      <td>0</td>\n",
       "      <td>0</td>\n",
       "      <td>0</td>\n",
       "      <td>0</td>\n",
       "      <td>0</td>\n",
       "      <td>...</td>\n",
       "      <td>0</td>\n",
       "      <td>0</td>\n",
       "      <td>0</td>\n",
       "      <td>0</td>\n",
       "      <td>0</td>\n",
       "      <td>0</td>\n",
       "      <td>0</td>\n",
       "      <td>0</td>\n",
       "      <td>0</td>\n",
       "      <td>0</td>\n",
       "    </tr>\n",
       "    <tr>\n",
       "      <th>1</th>\n",
       "      <td>0</td>\n",
       "      <td>0</td>\n",
       "      <td>0</td>\n",
       "      <td>0</td>\n",
       "      <td>0</td>\n",
       "      <td>0</td>\n",
       "      <td>0</td>\n",
       "      <td>0</td>\n",
       "      <td>0</td>\n",
       "      <td>0</td>\n",
       "      <td>...</td>\n",
       "      <td>0</td>\n",
       "      <td>0</td>\n",
       "      <td>0</td>\n",
       "      <td>0</td>\n",
       "      <td>0</td>\n",
       "      <td>0</td>\n",
       "      <td>0</td>\n",
       "      <td>0</td>\n",
       "      <td>0</td>\n",
       "      <td>0</td>\n",
       "    </tr>\n",
       "    <tr>\n",
       "      <th>2</th>\n",
       "      <td>1</td>\n",
       "      <td>0</td>\n",
       "      <td>0</td>\n",
       "      <td>0</td>\n",
       "      <td>0</td>\n",
       "      <td>0</td>\n",
       "      <td>0</td>\n",
       "      <td>0</td>\n",
       "      <td>0</td>\n",
       "      <td>0</td>\n",
       "      <td>...</td>\n",
       "      <td>0</td>\n",
       "      <td>0</td>\n",
       "      <td>0</td>\n",
       "      <td>0</td>\n",
       "      <td>0</td>\n",
       "      <td>0</td>\n",
       "      <td>0</td>\n",
       "      <td>0</td>\n",
       "      <td>0</td>\n",
       "      <td>0</td>\n",
       "    </tr>\n",
       "    <tr>\n",
       "      <th>3</th>\n",
       "      <td>4</td>\n",
       "      <td>0</td>\n",
       "      <td>0</td>\n",
       "      <td>0</td>\n",
       "      <td>0</td>\n",
       "      <td>0</td>\n",
       "      <td>0</td>\n",
       "      <td>0</td>\n",
       "      <td>0</td>\n",
       "      <td>0</td>\n",
       "      <td>...</td>\n",
       "      <td>0</td>\n",
       "      <td>0</td>\n",
       "      <td>0</td>\n",
       "      <td>0</td>\n",
       "      <td>0</td>\n",
       "      <td>0</td>\n",
       "      <td>0</td>\n",
       "      <td>0</td>\n",
       "      <td>0</td>\n",
       "      <td>0</td>\n",
       "    </tr>\n",
       "    <tr>\n",
       "      <th>4</th>\n",
       "      <td>0</td>\n",
       "      <td>0</td>\n",
       "      <td>0</td>\n",
       "      <td>0</td>\n",
       "      <td>0</td>\n",
       "      <td>0</td>\n",
       "      <td>0</td>\n",
       "      <td>0</td>\n",
       "      <td>0</td>\n",
       "      <td>0</td>\n",
       "      <td>...</td>\n",
       "      <td>0</td>\n",
       "      <td>0</td>\n",
       "      <td>0</td>\n",
       "      <td>0</td>\n",
       "      <td>0</td>\n",
       "      <td>0</td>\n",
       "      <td>0</td>\n",
       "      <td>0</td>\n",
       "      <td>0</td>\n",
       "      <td>0</td>\n",
       "    </tr>\n",
       "  </tbody>\n",
       "</table>\n",
       "<p>5 rows × 785 columns</p>\n",
       "</div>"
      ],
      "text/plain": [
       "   label  pixel0  pixel1  pixel2  pixel3  pixel4  pixel5  pixel6  pixel7  \\\n",
       "0      1       0       0       0       0       0       0       0       0   \n",
       "1      0       0       0       0       0       0       0       0       0   \n",
       "2      1       0       0       0       0       0       0       0       0   \n",
       "3      4       0       0       0       0       0       0       0       0   \n",
       "4      0       0       0       0       0       0       0       0       0   \n",
       "\n",
       "   pixel8  ...  pixel774  pixel775  pixel776  pixel777  pixel778  pixel779  \\\n",
       "0       0  ...         0         0         0         0         0         0   \n",
       "1       0  ...         0         0         0         0         0         0   \n",
       "2       0  ...         0         0         0         0         0         0   \n",
       "3       0  ...         0         0         0         0         0         0   \n",
       "4       0  ...         0         0         0         0         0         0   \n",
       "\n",
       "   pixel780  pixel781  pixel782  pixel783  \n",
       "0         0         0         0         0  \n",
       "1         0         0         0         0  \n",
       "2         0         0         0         0  \n",
       "3         0         0         0         0  \n",
       "4         0         0         0         0  \n",
       "\n",
       "[5 rows x 785 columns]"
      ]
     },
     "execution_count": 3,
     "metadata": {},
     "output_type": "execute_result"
    }
   ],
   "source": [
    "print(train.shape)\n",
    "train.head()"
   ]
  },
  {
   "cell_type": "code",
   "execution_count": 4,
   "metadata": {},
   "outputs": [
    {
     "data": {
      "image/png": "[encoded data removed]",
      "text/plain": [
       "<Figure size 432x288 with 1 Axes>"
      ]
     },
     "metadata": {
      "needs_background": "light"
     },
     "output_type": "display_data"
    }
   ],
   "source": [
    "# The 'label' column is separated from the rest in the training set\n",
    "\n",
    "label = train['label'].to_numpy()\n",
    "train['label'].value_counts().plot(kind='bar')\n",
    "train = train.drop(columns=['label']).to_numpy()\n",
    "test = test.to_numpy()\n",
    "\n",
    "# The reshaping is important as need to put it in form of an image of dimension 28x28.\n",
    "# The extra 1 denotes it is an gray scale image. For an RGB image it would be 3\n",
    "train=np.reshape(train,(42000,28,28,1))\n",
    "test=np.reshape(test,(28000,28,28,1))"
   ]
  },
  {
   "cell_type": "markdown",
   "execution_count": null,
   "metadata": {},
   "source": [
    "The plot above shows the occurence of each of the digits in the training set. \n",
    "\n",
    "There is not much of a difference between frequency of each of the digit. So, the dataset can be assumed to be not skewed and therefore good."
   ]
  },
  {
   "cell_type": "markdown",
   "execution_count": null,
   "metadata": {},
   "source": [
    "### Data Visualization:"
   ]
  },
  {
   "cell_type": "code",
   "execution_count": 5,
   "metadata": {},
   "outputs": [
    {
     "data": {
      "image/png": "[encoded data removed]",
      "text/plain": [
       "<Figure size 720x288 with 6 Axes>"
      ]
     },
     "metadata": {
      "needs_background": "light"
     },
     "output_type": "display_data"
    }
   ],
   "source": [
    "#Visualizing few random digits from the training set\n",
    "\n",
    "fig=plt.figure(figsize=(10, 4))\n",
    "columns = 6\n",
    "rows = 1\n",
    "for i in range(columns*rows):\n",
    "    fig.add_subplot(rows, columns, i+1)\n",
    "    plt.axis('off')\n",
    "    img1 = train[i+1000]\n",
    "    plt.imshow(np.squeeze(img1,axis=2), cmap=\"gray\")"
   ]
  },
  {
   "cell_type": "markdown",
   "execution_count": null,
   "metadata": {},
   "source": [
    "### Data Preprocessing:\n",
    "\n",
    "##### Normalizing:\n",
    "This is a very important step in any image or feature based classification. \n",
    "Without normalisation of data some features get much more importance to others leading to lower accuracy compared to when normalized.\n",
    "\n",
    "There are generally 2 very popular ways of normalizing:\n",
    "\n",
    "i) Dividing the values with the maximum value that can occur (for gray scale it is 255) --\n",
    "\n",
    "      This will lead values from 0 to 1\n",
    "      \n",
    "ii) Subtracting the mean of the values and then dividing it with the standard deviation --\n",
    "\n",
    "      This will lead values from -1 to 1"
   ]
  },
  {
   "cell_type": "code",
   "execution_count": 6,
   "metadata": {},
   "outputs": [],
   "source": [
    "#Here I have used the second method, the first method is equally applicable:\n",
    "\n",
    "meu = train.mean()\n",
    "sig = train.std()\n",
    "train = (train - meu)/sig\n",
    "\n",
    "meu = test.mean()\n",
    "sig = test.std()\n",
    "test = (test - meu)/sig"
   ]
  },
  {
   "cell_type": "markdown",
   "execution_count": null,
   "metadata": {},
   "source": [
    "##### One-Hot encoding:\n",
    "\n",
    "It is popular way to categorising data and is widely used whenever we do classification for more than 2 classes but is equally appliable for binary(2 class) classification as well.\n",
    "\n",
    "A one-hot vector is a vector which is 0 in most dimensions, and 1 in a single dimension. In this case, the n-th digit will be represented as a vector which is 1 in the n-th dimension.\n",
    "\n",
    "In this problem, since we classify 10 digits(0 to 9) we have 10:\n",
    "\n",
    "For example, 3 would be represented as [0,0,0,1,0,0,0,0,0,0] "
   ]
  },
  {
   "cell_type": "code",
   "execution_count": 7,
   "metadata": {},
   "outputs": [
    {
     "name": "stdout",
     "output_type": "stream",
     "text": [
      "Labels before one-hot encoding:\n",
      "[0 7 3]\n",
      "Labels after one-hot encoding:\n",
      "[[1. 0. 0. 0. 0. 0. 0. 0. 0. 0.]\n",
      " [0. 0. 0. 0. 0. 0. 0. 1. 0. 0.]\n",
      " [0. 0. 0. 1. 0. 0. 0. 0. 0. 0.]]\n"
     ]
    }
   ],
   "source": [
    "print(\"Labels before one-hot encoding:\")\n",
    "print(label[5:8])\n",
    "print(\"Labels after one-hot encoding:\")\n",
    "print(to_categorical(label)[5:8])\n",
    "\n",
    "label = to_categorical(label)"
   ]
  },
  {
   "cell_type": "code",
   "execution_count": 8,
   "metadata": {},
   "outputs": [],
   "source": [
    "# Spilitting the training set to get validation results\n",
    "\n",
    "X_train, X_val, Y_train, Y_val = train_test_split(train, label, test_size=0.1, random_state=0)"
   ]
  },
  {
   "cell_type": "markdown",
   "execution_count": null,
   "metadata": {},
   "source": [
    "## Modelling the CNN:\n",
    "\n",
    "##### Design idea:\n",
    "\n",
    "Designing a CNN is a very important step towards classification result.\n",
    "\n",
    "A common practice in CNN is \"Increase the Dimension - Reduce the size\"\n",
    "\n",
    "Here, dimension is the number of channels. Initially it was 1(gray-scale), after first Convolution I am making it 32 and then I am making it 64\n",
    "\n",
    "##### Placing Layers:\n",
    "\n",
    "A CNN architecture always looks like a repeatation of Convolution-Activation-Pooling Combination followed by Dense and Dropout(optional) layers for the final classification.\n",
    "\n",
    "##### Choosing values:\n",
    "\n",
    "The choice of loss function is very important. In this question, since I am performing categorisation I will be choosing \"categorical_cross entropy\". There are many more options which have there special uses.\n",
    "\n",
    "The activation of the final layer is chosen as \"Softmax\" since we break it into 10 categories(with each having its own prediction). If the output layer had only 1 neuron then \"Softmax\" is irrelavant. (You can try training and see the results)"
   ]
  },
  {
   "cell_type": "code",
   "execution_count": 9,
   "metadata": {},
   "outputs": [
    {
     "name": "stdout",
     "output_type": "stream",
     "text": [
      "Model: \"sequential\"\n",
      "_________________________________________________________________\n",
      "Layer (type)                 Output Shape              Param #   \n",
      "=================================================================\n",
      "conv2d (Conv2D)              (None, 26, 26, 32)        320       \n",
      "_________________________________________________________________\n",
      "max_pooling2d (MaxPooling2D) (None, 13, 13, 32)        0         \n",
      "_________________________________________________________________\n",
      "conv2d_1 (Conv2D)            (None, 11, 11, 64)        18496     \n",
      "_________________________________________________________________\n",
      "max_pooling2d_1 (MaxPooling2 (None, 5, 5, 64)          0         \n",
      "_________________________________________________________________\n",
      "flatten (Flatten)            (None, 1600)              0         \n",
      "_________________________________________________________________\n",
      "dense (Dense)                (None, 512)               819712    \n",
      "_________________________________________________________________\n",
      "dense_1 (Dense)              (None, 10)                5130      \n",
      "=================================================================\n",
      "Total params: 843,658\n",
      "Trainable params: 843,658\n",
      "Non-trainable params: 0\n",
      "_________________________________________________________________\n"
     ]
    }
   ],
   "source": [
    "model = Sequential()\n",
    "\n",
    "model.add(Conv2D(32,kernel_size=(3,3),activation=\"relu\",input_shape=(28,28,1)))\n",
    "model.add(MaxPool2D(pool_size=(2,2),strides=2))\n",
    "model.add(Conv2D(64,kernel_size=(3,3),activation=\"relu\"))\n",
    "model.add(MaxPool2D(pool_size=(2,2),strides=2))\n",
    "model.add(Flatten())\n",
    "model.add(Dense(512,activation=\"relu\"))\n",
    "model.add(Dense(10,activation=\"softmax\"))\n",
    "model.compile(loss=\"categorical_crossentropy\",optimizer=\"adam\", metrics=[\"accuracy\"])\n",
    "\n",
    "model.summary()"
   ]
  },
  {
   "cell_type": "code",
   "execution_count": 10,
   "metadata": {},
   "outputs": [
    {
     "name": "stdout",
     "output_type": "stream",
     "text": [
      "Train on 37800 samples, validate on 4200 samples\n",
      "Epoch 1/10\n",
      "37800/37800 [==============================] - 9s 230us/sample - loss: 0.1205 - accuracy: 0.9629 - val_loss: 0.0608 - val_accuracy: 0.9802\n",
      "Epoch 2/10\n",
      "37800/37800 [==============================] - 5s 124us/sample - loss: 0.0424 - accuracy: 0.9865 - val_loss: 0.0557 - val_accuracy: 0.9814\n",
      "Epoch 3/10\n",
      "37800/37800 [==============================] - 5s 128us/sample - loss: 0.0279 - accuracy: 0.9914 - val_loss: 0.0802 - val_accuracy: 0.9779\n",
      "Epoch 4/10\n",
      "37800/37800 [==============================] - 5s 125us/sample - loss: 0.0186 - accuracy: 0.9939 - val_loss: 0.0601 - val_accuracy: 0.9855\n",
      "Epoch 5/10\n",
      "37800/37800 [==============================] - 5s 121us/sample - loss: 0.0159 - accuracy: 0.9942 - val_loss: 0.0458 - val_accuracy: 0.9890\n",
      "Epoch 6/10\n",
      "37800/37800 [==============================] - 5s 120us/sample - loss: 0.0151 - accuracy: 0.9947 - val_loss: 0.0458 - val_accuracy: 0.9871\n",
      "Epoch 7/10\n",
      "37800/37800 [==============================] - 5s 123us/sample - loss: 0.0095 - accuracy: 0.9971 - val_loss: 0.0580 - val_accuracy: 0.9871\n",
      "Epoch 8/10\n",
      "37800/37800 [==============================] - 5s 120us/sample - loss: 0.0094 - accuracy: 0.9968 - val_loss: 0.0464 - val_accuracy: 0.9902\n",
      "Epoch 9/10\n",
      "37800/37800 [==============================] - 5s 133us/sample - loss: 0.0099 - accuracy: 0.9970 - val_loss: 0.0481 - val_accuracy: 0.9893\n",
      "Epoch 10/10\n",
      "37800/37800 [==============================] - 5s 135us/sample - loss: 0.0070 - accuracy: 0.9975 - val_loss: 0.0547 - val_accuracy: 0.9888\n"
     ]
    },
    {
     "data": {
      "text/plain": [
       "<tensorflow.python.keras.callbacks.History at 0x7f73653c7810>"
      ]
     },
     "execution_count": 10,
     "metadata": {},
     "output_type": "execute_result"
    }
   ],
   "source": [
    "model.fit(X_train,Y_train, epochs=10, validation_data=(X_val,Y_val))"
   ]
  },
  {
   "cell_type": "code",
   "execution_count": 11,
   "metadata": {},
   "outputs": [
    {
     "name": "stdout",
     "output_type": "stream",
     "text": [
      "4200/4200 [==============================] - 0s 79us/sample - loss: 0.0547 - accuracy: 0.9888\n",
      "Loss on validation: 0.054666 \n",
      "Accuracy on validation: 98.880953 \n"
     ]
    }
   ],
   "source": [
    "result = model.evaluate(X_val, Y_val, batch_size = 32)\n",
    "print(\"Loss on validation: %f \\nAccuracy on validation: %f \" %(result[0] ,result[1]*100))"
   ]
  },
  {
   "cell_type": "markdown",
   "execution_count": null,
   "metadata": {},
   "source": [
    "### Visualising the output:\n",
    "\n",
    "Let us check the Confusion Matrix which will give us the idea of the predictions."
   ]
  },
  {
   "cell_type": "code",
   "execution_count": 12,
   "metadata": {},
   "outputs": [
    {
     "data": {
      "text/plain": [
       "Text(33.0, 0.5, 'actual value')"
      ]
     },
     "execution_count": 12,
     "metadata": {},
     "output_type": "execute_result"
    },
    {
     "data": {
      "image/png": "[encoded data removed]",
      "text/plain": [
       "<Figure size 432x288 with 2 Axes>"
      ]
     },
     "metadata": {
      "needs_background": "light"
     },
     "output_type": "display_data"
    }
   ],
   "source": [
    "ylabel = model.predict_classes(X_val)\n",
    "ytest = [np.argmax(y, axis=None, out=None) for y in Y_val]\n",
    "conf_matrix = confusion_matrix(ytest, ylabel)\n",
    "sns.heatmap(conf_matrix, cmap=\"YlGnBu\",annot=True, fmt='g')\n",
    "plt.xlabel('predicted value')\n",
    "plt.ylabel('actual value')"
   ]
  },
  {
   "cell_type": "markdown",
   "execution_count": null,
   "metadata": {},
   "source": [
    "##### Displaying some of the predictions:"
   ]
  },
  {
   "cell_type": "code",
   "execution_count": 13,
   "metadata": {},
   "outputs": [
    {
     "data": {
      "image/png": "[encoded data removed]",
      "text/plain": [
       "<Figure size 1080x432 with 18 Axes>"
      ]
     },
     "metadata": {
      "needs_background": "light"
     },
     "output_type": "display_data"
    }
   ],
   "source": [
    "#Displaying the picture along with the predictions\n",
    "\n",
    "fig=plt.figure(figsize=(15, 6))\n",
    "columns = 6\n",
    "rows = 3\n",
    "for i in range(columns*rows):\n",
    "    fig.add_subplot(rows, columns, i+1)\n",
    "    plt.axis('off')\n",
    "    img1 = X_val[i]\n",
    "    value ='%1.0f'%(ylabel[i])\n",
    "    plt.text(5, 25,value,color='black',fontsize=12,bbox=dict(facecolor='yellow'))\n",
    "    plt.imshow(np.squeeze(img1,axis=2), cmap=\"gray\")"
   ]
  },
  {
   "cell_type": "markdown",
   "execution_count": null,
   "metadata": {},
   "source": [
    "### Checking some mis-classifications:\n",
    "\n",
    "As most of the results are correct let us check some incorrect predictions that were being made and we might be able to figure out the reason.\n"
   ]
  },
  {
   "cell_type": "code",
   "execution_count": 14,
   "metadata": {},
   "outputs": [
    {
     "name": "stdout",
     "output_type": "stream",
     "text": [
      "[52, 115, 216, 601, 616, 665, 707, 830, 845, 856, 992, 1087, 1109, 1146, 1152, 1171, 1182, 1190, 1324, 1340, 1532, 1586, 1657, 1788, 1835, 1938, 2050, 2060, 2156, 2223, 2252, 2492, 2542, 2636, 2651, 2706, 2854, 3001, 3207, 3252, 3370, 3433, 3455, 3997, 4033, 4091, 4193]\n"
     ]
    },
    {
     "data": {
      "image/png": "[encoded data removed]",
      "text/plain": [
       "<Figure size 1080x432 with 18 Axes>"
      ]
     },
     "metadata": {
      "needs_background": "light"
     },
     "output_type": "display_data"
    }
   ],
   "source": [
    "# Let me print both the prediction and the actual values on \n",
    "# the images which will help in better visualisation\n",
    "\n",
    "y_mis = [i for i in range(len(ytest)) if ytest[i]!=ylabel[i]]\n",
    "print(y_mis) #indices of the mis-classifications\n",
    "\n",
    "fig=plt.figure(figsize=(15, 6))\n",
    "columns = 6\n",
    "rows = 3\n",
    "x=0\n",
    "for i in range(columns*rows):\n",
    "    fig.add_subplot(rows, columns, i+1)\n",
    "    plt.axis('off')\n",
    "    img1 = X_val[y_mis[x]]\n",
    "    predicted_value ='%1.0f'%(ylabel[y_mis[x]])\n",
    "    plt.text(5, 25,predicted_value,color='black',fontsize=12,bbox=dict(facecolor='yellow'))\n",
    "    actual_value ='%1.0f'%(ytest[y_mis[x]])\n",
    "    plt.text(20, 25,actual_value,color='white',fontsize=12,bbox=dict(facecolor='green'))\n",
    "    plt.imshow(np.squeeze(img1,axis=2), cmap=\"gray\")\n",
    "    x=x+1"
   ]
  },
  {
   "cell_type": "markdown",
   "execution_count": null,
   "metadata": {},
   "source": [
    "As we can see above that the mis-classifications are very debatable as they could have been predicted either ways even with human eyes."
   ]
  },
  {
   "cell_type": "markdown",
   "execution_count": null,
   "metadata": {},
   "source": [
    "### Visualising Convolution Layers:\n",
    "\n",
    "Let us see how the Convolution layers work to produce a classification"
   ]
  },
  {
   "cell_type": "code",
   "execution_count": 15,
   "metadata": {},
   "outputs": [
    {
     "data": {
      "image/png": "[encoded data removed]",
      "text/plain": [
       "<Figure size 144x144 with 1 Axes>"
      ]
     },
     "metadata": {
      "needs_background": "light"
     },
     "output_type": "display_data"
    },
    {
     "name": "stdout",
     "output_type": "stream",
     "text": [
      "Output for each filter of first Convolution Layer\n"
     ]
    },
    {
     "data": {
      "image/png": "[encoded data removed]",
      "text/plain": [
       "<Figure size 1008x504 with 32 Axes>"
      ]
     },
     "metadata": {
      "needs_background": "light"
     },
     "output_type": "display_data"
    },
    {
     "name": "stdout",
     "output_type": "stream",
     "text": [
      "Output for each filter of second Convolution Layer\n"
     ]
    },
    {
     "data": {
      "image/png": "[encoded data removed]",
      "text/plain": [
       "<Figure size 1008x504 with 32 Axes>"
      ]
     },
     "metadata": {
      "needs_background": "light"
     },
     "output_type": "display_data"
    }
   ],
   "source": [
    "img=X_val[8]\n",
    "fig=plt.figure(figsize=(2,2))\n",
    "plt.imshow(np.squeeze(img,axis=2), cmap=\"gray\")\n",
    "plt.show()\n",
    "\n",
    "img = np.expand_dims(img, axis=0)\n",
    "conv1_output = Model(inputs=model.input, outputs=model.get_layer('conv2d').output)\n",
    "conv2_output = Model(inputs=model.input, outputs=model.get_layer('conv2d_1').output)\n",
    "conv1_features = conv1_output.predict(img)\n",
    "conv2_features = conv2_output.predict(img)\n",
    "\n",
    "import matplotlib.image as mpimg\n",
    "\n",
    "fig=plt.figure(figsize=(14,7))\n",
    "columns = 8\n",
    "rows = 4\n",
    "\n",
    "print(\"Output for each filter of first Convolution Layer\")\n",
    "for i in range(columns*rows):\n",
    "    #img = mpimg.imread()\n",
    "    fig.add_subplot(rows, columns, i+1)\n",
    "    plt.axis('off')\n",
    "    plt.title('filter'+str(i))\n",
    "    plt.imshow(conv1_features[0, :, :, i], cmap='gray')\n",
    "plt.show()\n",
    "\n",
    "fig=plt.figure(figsize=(14,7))\n",
    "print(\"Output for each filter of second Convolution Layer\")\n",
    "for i in range(columns*rows):\n",
    "    #img = mpimg.imread()\n",
    "    fig.add_subplot(rows, columns, i+1)\n",
    "    plt.axis('off')\n",
    "    plt.title('filter'+str(i))\n",
    "    plt.imshow(conv2_features[0, :, :, i], cmap='gray')\n",
    "plt.show()"
   ]
  },
  {
   "cell_type": "markdown",
   "execution_count": null,
   "metadata": {},
   "source": [
    "#### Inference from above output:\n",
    "\n",
    "It can be seen that the first layer of convolution observes edge features or backgroud or sudden changes that can be obtained by certain well known image-processing convolution kernels such as sobel or laplacian. \n",
    "\n",
    "However, the second convolution layer observes edges and corners which cannot be explained very well. And this is true if we go even further the convolution output cannot be explained but they capture relevant feature which makes CNN very useful for image classification"
   ]
  },
  {
   "cell_type": "markdown",
   "execution_count": null,
   "metadata": {},
   "source": [
    "### Submitting Predictions to Kaggle:"
   ]
  },
  {
   "cell_type": "code",
   "execution_count": 16,
   "metadata": {},
   "outputs": [],
   "source": [
    "answers = model.predict_classes(test, verbose=0)\n",
    "submissions=pd.DataFrame({\"ImageId\": list(range(1,len(answers)+1)),\"Label\": answers})\n",
    "submissions.to_csv(\"submission.csv\", index=False, header=True)"
   ]
  },
  {
   "cell_type": "markdown",
   "execution_count": null,
   "metadata": {},
   "source": [
    "Thankyou for reading till the end. If it has helped you understand Convolution please concider upvoting. Thankyou."
   ]
  }
 ],
 "metadata": {
  "kernelspec": {
   "display_name": "Python 3",
   "language": "python",
   "name": "python3"
  },
  "language_info": {
   "codemirror_mode": {
    "name": "ipython",
    "version": 3
   },
   "file_extension": ".py",
   "mimetype": "text/x-python",
   "name": "python",
   "nbconvert_exporter": "python",
   "pygments_lexer": "ipython3",
   "version": "3.7.6"
  }
 },
 "nbformat": 4,
 "nbformat_minor": 4
}
